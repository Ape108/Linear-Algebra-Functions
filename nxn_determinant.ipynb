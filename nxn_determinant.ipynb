{
 "cells": [
  {
   "cell_type": "markdown",
   "id": "b774e6be",
   "metadata": {},
   "source": [
    "### Recursive Solution (Determinant of an n x n Matrix)"
   ]
  },
  {
   "cell_type": "code",
   "execution_count": 3,
   "id": "71e6b548",
   "metadata": {},
   "outputs": [],
   "source": [
    "import numpy as np\n",
    "\n",
    "def recursive_determinant(matrix):\n",
    "    \"\"\"\n",
    "    Calculates the determinant of an n x n matrix using recursive cofactor expansion.\n",
    "\n",
    "    Args:\n",
    "        matrix: A square numpy array.\n",
    "\n",
    "    Returns:\n",
    "        The determinant of the matrix.\n",
    "    \"\"\"\n",
    "    # Ensure the input is a square matrix\n",
    "    if matrix.shape[0] != matrix.shape[1]:\n",
    "        raise ValueError(\"Input matrix must be square.\")\n",
    "\n",
    "    n = matrix.shape[0]\n",
    "\n",
    "    # Base case: for a 1x1 matrix, the determinant is the single element.\n",
    "    if n == 1:\n",
    "        return matrix[0, 0]\n",
    "\n",
    "    # Base case: for a 2x2 matrix, the determinant is ad - bc.\n",
    "    if n == 2:\n",
    "        return matrix[0, 0] * matrix[1, 1] - matrix[0, 1] * matrix[1, 0]\n",
    "\n",
    "    # Recursive step for n > 2\n",
    "    determinant = 0\n",
    "    # We will perform cofactor expansion along the first row (row 0).\n",
    "    for col_index in range(n):\n",
    "        # 1. Get the current element from the first row.\n",
    "        current_val = matrix[0, col_index]\n",
    "        # 2. Calculate the sign for the cofactor. It alternates (+, -, +, ...).\n",
    "        # The formula is (-1)^(row + col). Since row is always 0, it's (-1)^col_index.\n",
    "        sign = (-1) ** col_index\n",
    "        # 3. Create the submatrix (minor) by removing the current row (0) and column.\n",
    "        # First, delete row 0.\n",
    "        submatrix = np.delete(matrix, 0, axis=0)\n",
    "        # Then, delete the current column from the result.\n",
    "        minor = np.delete(submatrix, col_index, axis=1)\n",
    "        # 4. Add the cofactor (sign * value * determinant_of_minor) to the total.\n",
    "        # The recursive call happens here on the smaller minor matrix.\n",
    "        determinant += sign * current_val * recursive_determinant(minor)\n",
    "\n",
    "    return determinant\n"
   ]
  },
  {
   "cell_type": "code",
   "execution_count": 4,
   "id": "709da9bf",
   "metadata": {},
   "outputs": [
    {
     "name": "stdout",
     "output_type": "stream",
     "text": [
      "Matrix B:\n",
      " [[1 2 3]\n",
      " [4 5 6]\n",
      " [7 8 9]]\n",
      "\n",
      "Determinant of B (calculated recursively): 0\n",
      "Determinant of B (using numpy.linalg.det): -0.00\n",
      "\n",
      "==============================\n",
      "\n",
      "Matrix C:\n",
      " [[ 3  2  0  1]\n",
      " [ 4  0  1  2]\n",
      " [-3  0  3  1]\n",
      " [ 2  1 -2  1]]\n",
      "\n",
      "Determinant of C (calculated recursively): -50\n",
      "Determinant of C (using numpy.linalg.det): -50.00\n"
     ]
    }
   ],
   "source": [
    "# --- Example Usage ---\n",
    "\n",
    "# 3x3 Matrix\n",
    "B = np.array([[1, 2, 3],\n",
    "              [4, 5, 6],\n",
    "              [7, 8, 9]])\n",
    "\n",
    "# 4x4 Matrix\n",
    "C = np.array([[3, 2, 0, 1],\n",
    "              [4, 0, 1, 2],\n",
    "              [-3, 0, 3, 1],\n",
    "              [2, 1, -2, 1]])\n",
    "\n",
    "\n",
    "print(\"Matrix B:\\n\", B)\n",
    "det_B = recursive_determinant(B)\n",
    "print(f\"\\nDeterminant of B (calculated recursively): {det_B}\")\n",
    "print(f\"Determinant of B (using numpy.linalg.det): {np.linalg.det(B):.2f}\")\n",
    "\n",
    "\n",
    "print(\"\\n\" + \"=\"*30 + \"\\n\")\n",
    "\n",
    "\n",
    "print(\"Matrix C:\\n\", C)\n",
    "det_C = recursive_determinant(C)\n",
    "print(f\"\\nDeterminant of C (calculated recursively): {det_C}\")\n",
    "print(f\"Determinant of C (using numpy.linalg.det): {np.linalg.det(C):.2f}\")"
   ]
  },
  {
   "cell_type": "code",
   "execution_count": null,
   "id": "561f6a48",
   "metadata": {},
   "outputs": [],
   "source": []
  }
 ],
 "metadata": {
  "kernelspec": {
   "display_name": "base",
   "language": "python",
   "name": "python3"
  },
  "language_info": {
   "codemirror_mode": {
    "name": "ipython",
    "version": 3
   },
   "file_extension": ".py",
   "mimetype": "text/x-python",
   "name": "python",
   "nbconvert_exporter": "python",
   "pygments_lexer": "ipython3",
   "version": "3.13.2"
  }
 },
 "nbformat": 4,
 "nbformat_minor": 5
}
