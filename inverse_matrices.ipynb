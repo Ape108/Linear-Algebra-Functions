{
 "cells": [
  {
   "cell_type": "markdown",
   "id": "98961561",
   "metadata": {},
   "source": [
    "The inverse of a 2x2 matrix \n",
    "```A = [[a, b],```\n",
    "    ```[c, d]]```\n",
    "is defined as \n",
    "(1/(ad-bc))```[[d, -b],```\n",
    "            ```[-c, a]]```\n",
    "where ```ad-bc``` is the **determinant** of A."
   ]
  },
  {
   "cell_type": "markdown",
   "id": "c9e6b827",
   "metadata": {},
   "source": [
    "### Without Numpy:"
   ]
  },
  {
   "cell_type": "code",
   "execution_count": 6,
   "id": "0e475975",
   "metadata": {},
   "outputs": [
    {
     "name": "stdout",
     "output_type": "stream",
     "text": [
      "Determinant:\n",
      "1 * 4 - 2 * 3 \n",
      "= -2\n",
      "\n",
      "Inverse:\n",
      "(1 / (-2)) [[4,-2],[-3,1]]\n",
      "=\n",
      "[-2.0, 1.0]\n",
      "[1.5, -0.5]\n"
     ]
    }
   ],
   "source": [
    "import copy\n",
    "\n",
    "A = [[1, 2],\n",
    "     [3, 4]]\n",
    "\n",
    "def two_by_two_inverse(matrix):\n",
    "    ad = matrix[0][0] * matrix[1][1]\n",
    "    bc = matrix[0][1] * matrix[1][0]\n",
    "    det = ad - bc\n",
    "    \n",
    "    print(\"Determinant:\")\n",
    "    print(f\"{matrix[0][0]} * {matrix[1][1]} - {matrix[0][1]} * {matrix[1][0]} \\n= {det}\\n\")\n",
    "\n",
    "    adjoint = copy.deepcopy(matrix)\n",
    "    temp = adjoint[0][0]\n",
    "    adjoint[0][0] = adjoint[1][1]\n",
    "    adjoint[1][1] = temp\n",
    "    adjoint[0][1] *= -1\n",
    "    adjoint[1][0] *= -1\n",
    "\n",
    "    inverse = copy.deepcopy(adjoint)\n",
    "    # Multiplication of adjoint matrix by scalar (1/determinant)\n",
    "\n",
    "    for row in range(2):\n",
    "        for col in range(2):\n",
    "            inverse[row][col] *= (1/det)\n",
    "\n",
    "    print(\"Inverse:\")\n",
    "    print(f\"(1 / ({det})) [[{adjoint[0][0]},{adjoint[0][1]}],[{adjoint[1][0]},{adjoint[1][1]}]]\\n=\")\n",
    "    for row in inverse:\n",
    "        print(row)\n",
    "\n",
    "two_by_two_inverse(A)\n",
    "\n"
   ]
  },
  {
   "cell_type": "markdown",
   "id": "ee806a9b",
   "metadata": {},
   "source": [
    "### With Numpy:"
   ]
  },
  {
   "cell_type": "code",
   "execution_count": 7,
   "id": "1d5060b7",
   "metadata": {},
   "outputs": [
    {
     "name": "stdout",
     "output_type": "stream",
     "text": [
      "Determinant:\n",
      "-2.0\n",
      "Inverse:\n",
      "[[-2.   1. ]\n",
      " [ 1.5 -0.5]]\n"
     ]
    }
   ],
   "source": [
    "import numpy as np\n",
    "\n",
    "np_A = np.array(A)\n",
    "np_determinant = np.linalg.det(np_A)\n",
    "np_inverse = np.linalg.inv(np_A)\n",
    "\n",
    "print(\"Determinant:\")\n",
    "print(f\"{np_determinant:.1f}\")\n",
    "print(\"Inverse:\")\n",
    "print(np_inverse)"
   ]
  },
  {
   "cell_type": "code",
   "execution_count": null,
   "id": "1cf6b83e",
   "metadata": {},
   "outputs": [],
   "source": []
  }
 ],
 "metadata": {
  "kernelspec": {
   "display_name": "base",
   "language": "python",
   "name": "python3"
  },
  "language_info": {
   "codemirror_mode": {
    "name": "ipython",
    "version": 3
   },
   "file_extension": ".py",
   "mimetype": "text/x-python",
   "name": "python",
   "nbconvert_exporter": "python",
   "pygments_lexer": "ipython3",
   "version": "3.13.2"
  }
 },
 "nbformat": 4,
 "nbformat_minor": 5
}
